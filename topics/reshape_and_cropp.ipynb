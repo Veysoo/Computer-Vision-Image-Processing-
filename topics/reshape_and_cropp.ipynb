{
 "cells": [
  {
   "cell_type": "markdown",
   "metadata": {},
   "source": [
    "#### RESİZE"
   ]
  },
  {
   "cell_type": "code",
   "execution_count": 1,
   "metadata": {},
   "outputs": [
    {
     "name": "stdout",
     "output_type": "stream",
     "text": [
      "resim boyutu :  (225, 225, 3)\n",
      "resim boyutu :  (800, 800, 3)\n"
     ]
    },
    {
     "data": {
      "text/plain": [
       "-1"
      ]
     },
     "execution_count": 1,
     "metadata": {},
     "output_type": "execute_result"
    }
   ],
   "source": [
    "import cv2 as cv\n",
    "\n",
    "pic = cv.imread(\"download.png\")\n",
    "\n",
    "print(\"resim boyutu : \", pic.shape)\n",
    "\n",
    "cv.imshow(\"resim\",pic)\n",
    "\n",
    "pic_resize =cv.resize(pic , (800,800))\n",
    "\n",
    "print(\"resim boyutu : \", pic_resize.shape)\n",
    "\n",
    "cv.imshow(\"resized\",pic_resize)\n",
    "\n",
    "cv.waitKey(0)"
   ]
  },
  {
   "cell_type": "markdown",
   "metadata": {},
   "source": [
    "#### Cropp"
   ]
  },
  {
   "cell_type": "code",
   "execution_count": 3,
   "metadata": {},
   "outputs": [
    {
     "data": {
      "text/plain": [
       "-1"
      ]
     },
     "execution_count": 3,
     "metadata": {},
     "output_type": "execute_result"
    }
   ],
   "source": [
    "pic_cropped = pic[:100,0:200] # y , x \n",
    "\n",
    "cv.imshow(\"kirpma\",pic_cropped)\n",
    "\n",
    "\n",
    "cv.waitKey(0)"
   ]
  }
 ],
 "metadata": {
  "kernelspec": {
   "display_name": "Python 3",
   "language": "python",
   "name": "python3"
  },
  "language_info": {
   "codemirror_mode": {
    "name": "ipython",
    "version": 3
   },
   "file_extension": ".py",
   "mimetype": "text/x-python",
   "name": "python",
   "nbconvert_exporter": "python",
   "pygments_lexer": "ipython3",
   "version": "3.12.0"
  }
 },
 "nbformat": 4,
 "nbformat_minor": 2
}
