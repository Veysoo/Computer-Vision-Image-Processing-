{
 "cells": [
  {
   "cell_type": "markdown",
   "metadata": {},
   "source": [
    "PERSPECTİVE TRANSFORMATİON"
   ]
  },
  {
   "cell_type": "code",
   "execution_count": 5,
   "metadata": {},
   "outputs": [
    {
     "data": {
      "text/plain": [
       "-1"
      ]
     },
     "execution_count": 5,
     "metadata": {},
     "output_type": "execute_result"
    }
   ],
   "source": [
    "import cv2\n",
    "import numpy as np\n",
    "\n",
    "img = cv2.imread(\"images.png\")\n",
    "\n",
    "cv2.imshow(\"resim\",img)\n",
    "\n",
    "width = 400\n",
    "height = 600\n",
    "\n",
    "pts1 = np.float32([[80,58],[80,144],[168,18],[168,117]]) # object points\n",
    "\n",
    "pts2 = np.float32([[0,0],[0,height],[width,0],[width,height]]) # last image points\n",
    "\n",
    "matrix = cv2.getPerspectiveTransform(pts1,pts2)\n",
    "\n",
    "img_output = cv2.warpPerspective(img,matrix,(width,height))\n",
    "\n",
    "cv2.imshow(\"last_image\",img_output)\n",
    "\n",
    "cv2.waitKey(0)\n"
   ]
  }
 ],
 "metadata": {
  "kernelspec": {
   "display_name": "Python 3",
   "language": "python",
   "name": "python3"
  },
  "language_info": {
   "codemirror_mode": {
    "name": "ipython",
    "version": 3
   },
   "file_extension": ".py",
   "mimetype": "text/x-python",
   "name": "python",
   "nbconvert_exporter": "python",
   "pygments_lexer": "ipython3",
   "version": "3.12.0"
  }
 },
 "nbformat": 4,
 "nbformat_minor": 2
}
